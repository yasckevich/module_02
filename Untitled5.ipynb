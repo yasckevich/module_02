{
 "cells": [
  {
   "cell_type": "code",
   "execution_count": 1,
   "metadata": {},
   "outputs": [
    {
     "data": {
      "text/html": [
       "<div>\n",
       "<style scoped>\n",
       "    .dataframe tbody tr th:only-of-type {\n",
       "        vertical-align: middle;\n",
       "    }\n",
       "\n",
       "    .dataframe tbody tr th {\n",
       "        vertical-align: top;\n",
       "    }\n",
       "\n",
       "    .dataframe thead th {\n",
       "        text-align: right;\n",
       "    }\n",
       "</style>\n",
       "<table border=\"1\" class=\"dataframe\">\n",
       "  <thead>\n",
       "    <tr style=\"text-align: right;\">\n",
       "      <th></th>\n",
       "      <th>age</th>\n",
       "      <th>Medu</th>\n",
       "      <th>Fedu</th>\n",
       "      <th>traveltime</th>\n",
       "      <th>studytime</th>\n",
       "      <th>failures</th>\n",
       "      <th>studytime, granular</th>\n",
       "      <th>famrel</th>\n",
       "      <th>freetime</th>\n",
       "      <th>goout</th>\n",
       "      <th>health</th>\n",
       "      <th>absences</th>\n",
       "      <th>score</th>\n",
       "    </tr>\n",
       "  </thead>\n",
       "  <tbody>\n",
       "    <tr>\n",
       "      <th>age</th>\n",
       "      <td>1.000000</td>\n",
       "      <td>-0.161704</td>\n",
       "      <td>-0.138018</td>\n",
       "      <td>0.081508</td>\n",
       "      <td>-0.015556</td>\n",
       "      <td>0.228047</td>\n",
       "      <td>0.015556</td>\n",
       "      <td>0.068899</td>\n",
       "      <td>0.029023</td>\n",
       "      <td>0.135107</td>\n",
       "      <td>-0.065946</td>\n",
       "      <td>0.093592</td>\n",
       "      <td>-0.155726</td>\n",
       "    </tr>\n",
       "    <tr>\n",
       "      <th>Medu</th>\n",
       "      <td>-0.161704</td>\n",
       "      <td>1.000000</td>\n",
       "      <td>0.275598</td>\n",
       "      <td>-0.173515</td>\n",
       "      <td>0.078589</td>\n",
       "      <td>-0.245463</td>\n",
       "      <td>-0.078589</td>\n",
       "      <td>-0.010050</td>\n",
       "      <td>0.025335</td>\n",
       "      <td>0.064164</td>\n",
       "      <td>-0.045051</td>\n",
       "      <td>-0.011944</td>\n",
       "      <td>0.213349</td>\n",
       "    </tr>\n",
       "    <tr>\n",
       "      <th>Fedu</th>\n",
       "      <td>-0.138018</td>\n",
       "      <td>0.275598</td>\n",
       "      <td>1.000000</td>\n",
       "      <td>0.030646</td>\n",
       "      <td>0.057199</td>\n",
       "      <td>-0.150821</td>\n",
       "      <td>-0.057199</td>\n",
       "      <td>0.040577</td>\n",
       "      <td>-0.066556</td>\n",
       "      <td>-0.023282</td>\n",
       "      <td>0.027251</td>\n",
       "      <td>0.004695</td>\n",
       "      <td>0.078573</td>\n",
       "    </tr>\n",
       "    <tr>\n",
       "      <th>traveltime</th>\n",
       "      <td>0.081508</td>\n",
       "      <td>-0.173515</td>\n",
       "      <td>0.030646</td>\n",
       "      <td>1.000000</td>\n",
       "      <td>-0.102206</td>\n",
       "      <td>0.064699</td>\n",
       "      <td>0.102206</td>\n",
       "      <td>-0.016857</td>\n",
       "      <td>-0.021937</td>\n",
       "      <td>0.037636</td>\n",
       "      <td>-0.021531</td>\n",
       "      <td>-0.048215</td>\n",
       "      <td>-0.070559</td>\n",
       "    </tr>\n",
       "    <tr>\n",
       "      <th>studytime</th>\n",
       "      <td>-0.015556</td>\n",
       "      <td>0.078589</td>\n",
       "      <td>0.057199</td>\n",
       "      <td>-0.102206</td>\n",
       "      <td>1.000000</td>\n",
       "      <td>-0.178992</td>\n",
       "      <td>-1.000000</td>\n",
       "      <td>0.045894</td>\n",
       "      <td>-0.121969</td>\n",
       "      <td>-0.051280</td>\n",
       "      <td>-0.080016</td>\n",
       "      <td>-0.026544</td>\n",
       "      <td>0.115741</td>\n",
       "    </tr>\n",
       "    <tr>\n",
       "      <th>failures</th>\n",
       "      <td>0.228047</td>\n",
       "      <td>-0.245463</td>\n",
       "      <td>-0.150821</td>\n",
       "      <td>0.064699</td>\n",
       "      <td>-0.178992</td>\n",
       "      <td>1.000000</td>\n",
       "      <td>0.178992</td>\n",
       "      <td>-0.022655</td>\n",
       "      <td>0.098382</td>\n",
       "      <td>0.120914</td>\n",
       "      <td>0.081284</td>\n",
       "      <td>0.057391</td>\n",
       "      <td>-0.344338</td>\n",
       "    </tr>\n",
       "    <tr>\n",
       "      <th>studytime, granular</th>\n",
       "      <td>0.015556</td>\n",
       "      <td>-0.078589</td>\n",
       "      <td>-0.057199</td>\n",
       "      <td>0.102206</td>\n",
       "      <td>-1.000000</td>\n",
       "      <td>0.178992</td>\n",
       "      <td>1.000000</td>\n",
       "      <td>-0.045894</td>\n",
       "      <td>0.121969</td>\n",
       "      <td>0.051280</td>\n",
       "      <td>0.080016</td>\n",
       "      <td>0.026544</td>\n",
       "      <td>-0.115741</td>\n",
       "    </tr>\n",
       "    <tr>\n",
       "      <th>famrel</th>\n",
       "      <td>0.068899</td>\n",
       "      <td>-0.010050</td>\n",
       "      <td>0.040577</td>\n",
       "      <td>-0.016857</td>\n",
       "      <td>0.045894</td>\n",
       "      <td>-0.022655</td>\n",
       "      <td>-0.045894</td>\n",
       "      <td>1.000000</td>\n",
       "      <td>0.175743</td>\n",
       "      <td>0.081154</td>\n",
       "      <td>0.077474</td>\n",
       "      <td>-0.082609</td>\n",
       "      <td>0.057112</td>\n",
       "    </tr>\n",
       "    <tr>\n",
       "      <th>freetime</th>\n",
       "      <td>0.029023</td>\n",
       "      <td>0.025335</td>\n",
       "      <td>-0.066556</td>\n",
       "      <td>-0.021937</td>\n",
       "      <td>-0.121969</td>\n",
       "      <td>0.098382</td>\n",
       "      <td>0.121969</td>\n",
       "      <td>0.175743</td>\n",
       "      <td>1.000000</td>\n",
       "      <td>0.296437</td>\n",
       "      <td>0.061575</td>\n",
       "      <td>0.009292</td>\n",
       "      <td>0.019026</td>\n",
       "    </tr>\n",
       "    <tr>\n",
       "      <th>goout</th>\n",
       "      <td>0.135107</td>\n",
       "      <td>0.064164</td>\n",
       "      <td>-0.023282</td>\n",
       "      <td>0.037636</td>\n",
       "      <td>-0.051280</td>\n",
       "      <td>0.120914</td>\n",
       "      <td>0.051280</td>\n",
       "      <td>0.081154</td>\n",
       "      <td>0.296437</td>\n",
       "      <td>1.000000</td>\n",
       "      <td>-0.015608</td>\n",
       "      <td>-0.048738</td>\n",
       "      <td>-0.129685</td>\n",
       "    </tr>\n",
       "    <tr>\n",
       "      <th>health</th>\n",
       "      <td>-0.065946</td>\n",
       "      <td>-0.045051</td>\n",
       "      <td>0.027251</td>\n",
       "      <td>-0.021531</td>\n",
       "      <td>-0.080016</td>\n",
       "      <td>0.081284</td>\n",
       "      <td>0.080016</td>\n",
       "      <td>0.077474</td>\n",
       "      <td>0.061575</td>\n",
       "      <td>-0.015608</td>\n",
       "      <td>1.000000</td>\n",
       "      <td>-0.016222</td>\n",
       "      <td>-0.070460</td>\n",
       "    </tr>\n",
       "    <tr>\n",
       "      <th>absences</th>\n",
       "      <td>0.093592</td>\n",
       "      <td>-0.011944</td>\n",
       "      <td>0.004695</td>\n",
       "      <td>-0.048215</td>\n",
       "      <td>-0.026544</td>\n",
       "      <td>0.057391</td>\n",
       "      <td>0.026544</td>\n",
       "      <td>-0.082609</td>\n",
       "      <td>0.009292</td>\n",
       "      <td>-0.048738</td>\n",
       "      <td>-0.016222</td>\n",
       "      <td>1.000000</td>\n",
       "      <td>0.065283</td>\n",
       "    </tr>\n",
       "    <tr>\n",
       "      <th>score</th>\n",
       "      <td>-0.155726</td>\n",
       "      <td>0.213349</td>\n",
       "      <td>0.078573</td>\n",
       "      <td>-0.070559</td>\n",
       "      <td>0.115741</td>\n",
       "      <td>-0.344338</td>\n",
       "      <td>-0.115741</td>\n",
       "      <td>0.057112</td>\n",
       "      <td>0.019026</td>\n",
       "      <td>-0.129685</td>\n",
       "      <td>-0.070460</td>\n",
       "      <td>0.065283</td>\n",
       "      <td>1.000000</td>\n",
       "    </tr>\n",
       "  </tbody>\n",
       "</table>\n",
       "</div>"
      ],
      "text/plain": [
       "                          age      Medu      Fedu  traveltime  studytime  \\\n",
       "age                  1.000000 -0.161704 -0.138018    0.081508  -0.015556   \n",
       "Medu                -0.161704  1.000000  0.275598   -0.173515   0.078589   \n",
       "Fedu                -0.138018  0.275598  1.000000    0.030646   0.057199   \n",
       "traveltime           0.081508 -0.173515  0.030646    1.000000  -0.102206   \n",
       "studytime           -0.015556  0.078589  0.057199   -0.102206   1.000000   \n",
       "failures             0.228047 -0.245463 -0.150821    0.064699  -0.178992   \n",
       "studytime, granular  0.015556 -0.078589 -0.057199    0.102206  -1.000000   \n",
       "famrel               0.068899 -0.010050  0.040577   -0.016857   0.045894   \n",
       "freetime             0.029023  0.025335 -0.066556   -0.021937  -0.121969   \n",
       "goout                0.135107  0.064164 -0.023282    0.037636  -0.051280   \n",
       "health              -0.065946 -0.045051  0.027251   -0.021531  -0.080016   \n",
       "absences             0.093592 -0.011944  0.004695   -0.048215  -0.026544   \n",
       "score               -0.155726  0.213349  0.078573   -0.070559   0.115741   \n",
       "\n",
       "                     failures  studytime, granular    famrel  freetime  \\\n",
       "age                  0.228047             0.015556  0.068899  0.029023   \n",
       "Medu                -0.245463            -0.078589 -0.010050  0.025335   \n",
       "Fedu                -0.150821            -0.057199  0.040577 -0.066556   \n",
       "traveltime           0.064699             0.102206 -0.016857 -0.021937   \n",
       "studytime           -0.178992            -1.000000  0.045894 -0.121969   \n",
       "failures             1.000000             0.178992 -0.022655  0.098382   \n",
       "studytime, granular  0.178992             1.000000 -0.045894  0.121969   \n",
       "famrel              -0.022655            -0.045894  1.000000  0.175743   \n",
       "freetime             0.098382             0.121969  0.175743  1.000000   \n",
       "goout                0.120914             0.051280  0.081154  0.296437   \n",
       "health               0.081284             0.080016  0.077474  0.061575   \n",
       "absences             0.057391             0.026544 -0.082609  0.009292   \n",
       "score               -0.344338            -0.115741  0.057112  0.019026   \n",
       "\n",
       "                        goout    health  absences     score  \n",
       "age                  0.135107 -0.065946  0.093592 -0.155726  \n",
       "Medu                 0.064164 -0.045051 -0.011944  0.213349  \n",
       "Fedu                -0.023282  0.027251  0.004695  0.078573  \n",
       "traveltime           0.037636 -0.021531 -0.048215 -0.070559  \n",
       "studytime           -0.051280 -0.080016 -0.026544  0.115741  \n",
       "failures             0.120914  0.081284  0.057391 -0.344338  \n",
       "studytime, granular  0.051280  0.080016  0.026544 -0.115741  \n",
       "famrel               0.081154  0.077474 -0.082609  0.057112  \n",
       "freetime             0.296437  0.061575  0.009292  0.019026  \n",
       "goout                1.000000 -0.015608 -0.048738 -0.129685  \n",
       "health              -0.015608  1.000000 -0.016222 -0.070460  \n",
       "absences            -0.048738 -0.016222  1.000000  0.065283  \n",
       "score               -0.129685 -0.070460  0.065283  1.000000  "
      ]
     },
     "execution_count": 1,
     "metadata": {},
     "output_type": "execute_result"
    }
   ],
   "source": [
    "import pandas as pd\n",
    "import matplotlib.pyplot as plt\n",
    "import seaborn as sns\n",
    "from itertools import combinations\n",
    "from scipy.stats import ttest_ind\n",
    "\n",
    "base = pd.read_csv('stud_math.csv')\n",
    "base.corr()"
   ]
  },
  {
   "cell_type": "code",
   "execution_count": 2,
   "metadata": {},
   "outputs": [],
   "source": [
    "# используемые формулы\n",
    "\n",
    "\n",
    "def vybros(a):\n",
    "    median = a.median()\n",
    "    IQR = a.quantile(0.75) - a.quantile(0.25)\n",
    "    perc25 = a.quantile(0.25)\n",
    "    perc75 = a.quantile(0.75)\n",
    "    s = '25-й перцентиль: {},'.format(perc25), '75-й перцентиль: {},'.format(perc75), \"IQR: {}, \".format(\n",
    "        IQR), \"Границы выбросов: [{f}, {l}].\".format(f=perc25 - 1.5*IQR, l=perc75 + 1.5*IQR)\n",
    "    return s\n",
    "\n",
    "\n",
    "def yesno(x):\n",
    "    x = x.replace('yes', 1)\n",
    "    x = x.replace('no', 0)\n",
    "    return x"
   ]
  },
  {
   "cell_type": "code",
   "execution_count": 3,
   "metadata": {},
   "outputs": [],
   "source": [
    "# у нас есть дублирующий столбик studytime, granular и studytime\n",
    "# один из них можно удалять (так как у них полная обратная корреляция)\n",
    "\n",
    "base.drop(['studytime, granular'], inplace=True, axis=1)"
   ]
  },
  {
   "cell_type": "code",
   "execution_count": 4,
   "metadata": {},
   "outputs": [
    {
     "name": "stdout",
     "output_type": "stream",
     "text": [
      "<class 'pandas.core.frame.DataFrame'>\n",
      "RangeIndex: 395 entries, 0 to 394\n",
      "Data columns (total 29 columns):\n",
      " #   Column      Non-Null Count  Dtype  \n",
      "---  ------      --------------  -----  \n",
      " 0   school      395 non-null    object \n",
      " 1   sex         395 non-null    object \n",
      " 2   age         395 non-null    int64  \n",
      " 3   address     378 non-null    object \n",
      " 4   famsize     368 non-null    object \n",
      " 5   Pstatus     350 non-null    object \n",
      " 6   Medu        392 non-null    float64\n",
      " 7   Fedu        371 non-null    float64\n",
      " 8   Mjob        376 non-null    object \n",
      " 9   Fjob        359 non-null    object \n",
      " 10  reason      378 non-null    object \n",
      " 11  guardian    364 non-null    object \n",
      " 12  traveltime  367 non-null    float64\n",
      " 13  studytime   388 non-null    float64\n",
      " 14  failures    373 non-null    float64\n",
      " 15  schoolsup   386 non-null    object \n",
      " 16  famsup      356 non-null    object \n",
      " 17  paid        355 non-null    object \n",
      " 18  activities  381 non-null    object \n",
      " 19  nursery     379 non-null    object \n",
      " 20  higher      375 non-null    object \n",
      " 21  internet    361 non-null    object \n",
      " 22  romantic    364 non-null    object \n",
      " 23  famrel      368 non-null    float64\n",
      " 24  freetime    384 non-null    float64\n",
      " 25  goout       387 non-null    float64\n",
      " 26  health      380 non-null    float64\n",
      " 27  absences    383 non-null    float64\n",
      " 28  score       389 non-null    float64\n",
      "dtypes: float64(11), int64(1), object(17)\n",
      "memory usage: 89.6+ KB\n"
     ]
    }
   ],
   "source": [
    "pd.DataFrame(base).info()\n",
    "# во всех столбцах более 85% заполнено, нет ни одного, где было бы много пропусков\n",
    "# предварительно они все нам подходят"
   ]
  },
  {
   "cell_type": "code",
   "execution_count": 5,
   "metadata": {},
   "outputs": [
    {
     "data": {
      "text/html": [
       "<div>\n",
       "<style scoped>\n",
       "    .dataframe tbody tr th:only-of-type {\n",
       "        vertical-align: middle;\n",
       "    }\n",
       "\n",
       "    .dataframe tbody tr th {\n",
       "        vertical-align: top;\n",
       "    }\n",
       "\n",
       "    .dataframe thead th {\n",
       "        text-align: right;\n",
       "    }\n",
       "</style>\n",
       "<table border=\"1\" class=\"dataframe\">\n",
       "  <thead>\n",
       "    <tr style=\"text-align: right;\">\n",
       "      <th></th>\n",
       "      <th>school</th>\n",
       "    </tr>\n",
       "  </thead>\n",
       "  <tbody>\n",
       "    <tr>\n",
       "      <th>GP</th>\n",
       "      <td>349</td>\n",
       "    </tr>\n",
       "    <tr>\n",
       "      <th>MS</th>\n",
       "      <td>46</td>\n",
       "    </tr>\n",
       "  </tbody>\n",
       "</table>\n",
       "</div>"
      ],
      "text/plain": [
       "    school\n",
       "GP     349\n",
       "MS      46"
      ]
     },
     "metadata": {},
     "output_type": "display_data"
    },
    {
     "name": "stdout",
     "output_type": "stream",
     "text": [
      "2 уникальных значений\n"
     ]
    }
   ],
   "source": [
    "# 1 school — аббревиатура школы, в которой учится ученик\n",
    "\n",
    "base.school.describe()\n",
    "base.school = base.school.astype(str).apply(\n",
    "    lambda x: None if x.strip() == '' else x)\n",
    "\n",
    "x = pd.DataFrame(base.school.value_counts())\n",
    "display(x)\n",
    "print('{} уникальных значений'.format(len(x)))"
   ]
  },
  {
   "cell_type": "code",
   "execution_count": 6,
   "metadata": {},
   "outputs": [
    {
     "data": {
      "text/html": [
       "<div>\n",
       "<style scoped>\n",
       "    .dataframe tbody tr th:only-of-type {\n",
       "        vertical-align: middle;\n",
       "    }\n",
       "\n",
       "    .dataframe tbody tr th {\n",
       "        vertical-align: top;\n",
       "    }\n",
       "\n",
       "    .dataframe thead th {\n",
       "        text-align: right;\n",
       "    }\n",
       "</style>\n",
       "<table border=\"1\" class=\"dataframe\">\n",
       "  <thead>\n",
       "    <tr style=\"text-align: right;\">\n",
       "      <th></th>\n",
       "      <th>sex</th>\n",
       "    </tr>\n",
       "  </thead>\n",
       "  <tbody>\n",
       "    <tr>\n",
       "      <th>F</th>\n",
       "      <td>208</td>\n",
       "    </tr>\n",
       "    <tr>\n",
       "      <th>M</th>\n",
       "      <td>187</td>\n",
       "    </tr>\n",
       "  </tbody>\n",
       "</table>\n",
       "</div>"
      ],
      "text/plain": [
       "   sex\n",
       "F  208\n",
       "M  187"
      ]
     },
     "metadata": {},
     "output_type": "display_data"
    },
    {
     "name": "stdout",
     "output_type": "stream",
     "text": [
      "2 уникальных значений\n"
     ]
    }
   ],
   "source": [
    "# 2 sex — пол ученика ('F' - женский, 'M' - мужской)\n",
    "\n",
    "base.sex.describe()\n",
    "\n",
    "x = pd.DataFrame(base.sex.value_counts())\n",
    "display(x)\n",
    "print('{} уникальных значений'.format(len(x)))"
   ]
  },
  {
   "cell_type": "code",
   "execution_count": 7,
   "metadata": {
    "scrolled": true
   },
   "outputs": [
    {
     "name": "stdout",
     "output_type": "stream",
     "text": [
      "('25-й перцентиль: 16.0,', '75-й перцентиль: 18.0,', 'IQR: 2.0, ', 'Границы выбросов: [13.0, 21.0].')\n",
      "\n",
      "7 уникальных значений\n"
     ]
    },
    {
     "data": {
      "image/png": "[encoded data removed]",
      "text/plain": [
       "<Figure size 432x288 with 1 Axes>"
      ]
     },
     "metadata": {
      "needs_background": "light"
     },
     "output_type": "display_data"
    }
   ],
   "source": [
    "# 3 age — возраст ученика (от 15 до 22)\n",
    "\n",
    "base.age.describe()\n",
    "\n",
    "print(vybros(base.age))\n",
    "print()\n",
    "\n",
    "# есть выброс,поэтому ограничиваем значения\n",
    "base.age = base.age[base.age.between(13, 21)]\n",
    "\n",
    "\n",
    "x = pd.DataFrame(base.age.value_counts())\n",
    "base.age.hist()\n",
    "print('{} уникальных значений'.format(len(x)))"
   ]
  },
  {
   "cell_type": "code",
   "execution_count": 8,
   "metadata": {},
   "outputs": [
    {
     "data": {
      "text/html": [
       "<div>\n",
       "<style scoped>\n",
       "    .dataframe tbody tr th:only-of-type {\n",
       "        vertical-align: middle;\n",
       "    }\n",
       "\n",
       "    .dataframe tbody tr th {\n",
       "        vertical-align: top;\n",
       "    }\n",
       "\n",
       "    .dataframe thead th {\n",
       "        text-align: right;\n",
       "    }\n",
       "</style>\n",
       "<table border=\"1\" class=\"dataframe\">\n",
       "  <thead>\n",
       "    <tr style=\"text-align: right;\">\n",
       "      <th></th>\n",
       "      <th>address</th>\n",
       "    </tr>\n",
       "  </thead>\n",
       "  <tbody>\n",
       "    <tr>\n",
       "      <th>U</th>\n",
       "      <td>295</td>\n",
       "    </tr>\n",
       "    <tr>\n",
       "      <th>R</th>\n",
       "      <td>83</td>\n",
       "    </tr>\n",
       "  </tbody>\n",
       "</table>\n",
       "</div>"
      ],
      "text/plain": [
       "   address\n",
       "U      295\n",
       "R       83"
      ]
     },
     "metadata": {},
     "output_type": "display_data"
    },
    {
     "name": "stdout",
     "output_type": "stream",
     "text": [
      "2 уникальных значений\n"
     ]
    }
   ],
   "source": [
    "# 4 address — тип адреса ученика ('U' - городской, 'R' - за городом)\n",
    "\n",
    "base.address.describe()\n",
    "\n",
    "x = pd.DataFrame(base.address.value_counts())\n",
    "display(x)\n",
    "print('{} уникальных значений'.format(len(x)))"
   ]
  },
  {
   "cell_type": "code",
   "execution_count": 9,
   "metadata": {
    "scrolled": false
   },
   "outputs": [
    {
     "data": {
      "text/html": [
       "<div>\n",
       "<style scoped>\n",
       "    .dataframe tbody tr th:only-of-type {\n",
       "        vertical-align: middle;\n",
       "    }\n",
       "\n",
       "    .dataframe tbody tr th {\n",
       "        vertical-align: top;\n",
       "    }\n",
       "\n",
       "    .dataframe thead th {\n",
       "        text-align: right;\n",
       "    }\n",
       "</style>\n",
       "<table border=\"1\" class=\"dataframe\">\n",
       "  <thead>\n",
       "    <tr style=\"text-align: right;\">\n",
       "      <th></th>\n",
       "      <th>famsize</th>\n",
       "    </tr>\n",
       "  </thead>\n",
       "  <tbody>\n",
       "    <tr>\n",
       "      <th>GT3</th>\n",
       "      <td>261</td>\n",
       "    </tr>\n",
       "    <tr>\n",
       "      <th>LE3</th>\n",
       "      <td>107</td>\n",
       "    </tr>\n",
       "  </tbody>\n",
       "</table>\n",
       "</div>"
      ],
      "text/plain": [
       "     famsize\n",
       "GT3      261\n",
       "LE3      107"
      ]
     },
     "metadata": {},
     "output_type": "display_data"
    },
    {
     "name": "stdout",
     "output_type": "stream",
     "text": [
      "2 уникальных значений\n"
     ]
    }
   ],
   "source": [
    "# 5 famsize — размер семьи('LE3' <= 3, 'GT3' >3)\n",
    "\n",
    "base.famsize.describe()\n",
    "\n",
    "x = pd.DataFrame(base.famsize.value_counts())\n",
    "display(x)\n",
    "print('{} уникальных значений'.format(len(x)))"
   ]
  },
  {
   "cell_type": "code",
   "execution_count": 10,
   "metadata": {},
   "outputs": [
    {
     "data": {
      "text/html": [
       "<div>\n",
       "<style scoped>\n",
       "    .dataframe tbody tr th:only-of-type {\n",
       "        vertical-align: middle;\n",
       "    }\n",
       "\n",
       "    .dataframe tbody tr th {\n",
       "        vertical-align: top;\n",
       "    }\n",
       "\n",
       "    .dataframe thead th {\n",
       "        text-align: right;\n",
       "    }\n",
       "</style>\n",
       "<table border=\"1\" class=\"dataframe\">\n",
       "  <thead>\n",
       "    <tr style=\"text-align: right;\">\n",
       "      <th></th>\n",
       "      <th>Pstatus</th>\n",
       "    </tr>\n",
       "  </thead>\n",
       "  <tbody>\n",
       "    <tr>\n",
       "      <th>T</th>\n",
       "      <td>314</td>\n",
       "    </tr>\n",
       "    <tr>\n",
       "      <th>A</th>\n",
       "      <td>36</td>\n",
       "    </tr>\n",
       "  </tbody>\n",
       "</table>\n",
       "</div>"
      ],
      "text/plain": [
       "   Pstatus\n",
       "T      314\n",
       "A       36"
      ]
     },
     "metadata": {},
     "output_type": "display_data"
    },
    {
     "name": "stdout",
     "output_type": "stream",
     "text": [
      "2 уникальных значений\n"
     ]
    }
   ],
   "source": [
    "# 6 Pstatus — статус совместного жилья родителей ('T' - живут вместе 'A' - раздельно)\n",
    "\n",
    "base.Pstatus.describe()\n",
    "\n",
    "x = pd.DataFrame(base.Pstatus.value_counts())\n",
    "display(x)\n",
    "print('{} уникальных значений'.format(len(x)))"
   ]
  },
  {
   "cell_type": "code",
   "execution_count": 11,
   "metadata": {},
   "outputs": [
    {
     "name": "stdout",
     "output_type": "stream",
     "text": [
      "('25-й перцентиль: 2.0,', '75-й перцентиль: 4.0,', 'IQR: 2.0, ', 'Границы выбросов: [-1.0, 7.0].')\n",
      "5 уникальных значений\n"
     ]
    },
    {
     "data": {
      "image/png": "[encoded data removed]",
      "text/plain": [
       "<Figure size 432x288 with 1 Axes>"
      ]
     },
     "metadata": {
      "needs_background": "light"
     },
     "output_type": "display_data"
    }
   ],
   "source": [
    "# 7 Medu — образование матери (0 - нет, 1 - 4 класса, 2 - 5-9 классы, 3 - среднее специальное или 11 классов, 4 - высшее)\n",
    "\n",
    "base.Medu.describe()\n",
    "\n",
    "print(vybros(base.Medu))\n",
    "# выбросов нет\n",
    "\n",
    "base.Medu.hist()\n",
    "x = pd.DataFrame(base.Medu.value_counts())\n",
    "print('{} уникальных значений'.format(len(x)))"
   ]
  },
  {
   "cell_type": "code",
   "execution_count": 12,
   "metadata": {},
   "outputs": [
    {
     "name": "stdout",
     "output_type": "stream",
     "text": [
      "('25-й перцентиль: 2.0,', '75-й перцентиль: 3.0,', 'IQR: 1.0, ', 'Границы выбросов: [0.5, 4.5].')\n",
      "\n",
      "4 уникальных значений\n"
     ]
    },
    {
     "data": {
      "image/png": "[encoded data removed]",
      "text/plain": [
       "<Figure size 432x288 with 1 Axes>"
      ]
     },
     "metadata": {
      "needs_background": "light"
     },
     "output_type": "display_data"
    }
   ],
   "source": [
    "# 8 Fedu — образование отца (0 - нет, 1 - 4 класса, 2 - 5-9 классы, 3 - среднее специальное или 11 классов, 4 - высшее)\n",
    "\n",
    "base.Fedu.describe()\n",
    "# ошибка в оценка - максимальное значение должно быть 4.0, а не 40. убираем ошибочное значение\n",
    "\n",
    "base.Fedu = base.Fedu[base.Fedu.between(0, 5)]\n",
    "\n",
    "print(vybros(base.Fedu))\n",
    "print()\n",
    "\n",
    "# есть выбросы, уберем их\n",
    "base.Fedu = base.Fedu[base.Fedu.between(0.5, 4.5)]\n",
    "\n",
    "base.Fedu.hist()\n",
    "x = pd.DataFrame(base.Fedu.value_counts())\n",
    "print('{} уникальных значений'.format(len(x)))"
   ]
  },
  {
   "cell_type": "code",
   "execution_count": 13,
   "metadata": {},
   "outputs": [
    {
     "data": {
      "text/html": [
       "<div>\n",
       "<style scoped>\n",
       "    .dataframe tbody tr th:only-of-type {\n",
       "        vertical-align: middle;\n",
       "    }\n",
       "\n",
       "    .dataframe tbody tr th {\n",
       "        vertical-align: top;\n",
       "    }\n",
       "\n",
       "    .dataframe thead th {\n",
       "        text-align: right;\n",
       "    }\n",
       "</style>\n",
       "<table border=\"1\" class=\"dataframe\">\n",
       "  <thead>\n",
       "    <tr style=\"text-align: right;\">\n",
       "      <th></th>\n",
       "      <th>Mjob</th>\n",
       "    </tr>\n",
       "  </thead>\n",
       "  <tbody>\n",
       "    <tr>\n",
       "      <th>other</th>\n",
       "      <td>133</td>\n",
       "    </tr>\n",
       "    <tr>\n",
       "      <th>services</th>\n",
       "      <td>98</td>\n",
       "    </tr>\n",
       "    <tr>\n",
       "      <th>at_home</th>\n",
       "      <td>58</td>\n",
       "    </tr>\n",
       "    <tr>\n",
       "      <th>teacher</th>\n",
       "      <td>55</td>\n",
       "    </tr>\n",
       "    <tr>\n",
       "      <th>health</th>\n",
       "      <td>32</td>\n",
       "    </tr>\n",
       "  </tbody>\n",
       "</table>\n",
       "</div>"
      ],
      "text/plain": [
       "          Mjob\n",
       "other      133\n",
       "services    98\n",
       "at_home     58\n",
       "teacher     55\n",
       "health      32"
      ]
     },
     "metadata": {},
     "output_type": "display_data"
    },
    {
     "name": "stdout",
     "output_type": "stream",
     "text": [
      "5 уникальных значений\n"
     ]
    }
   ],
   "source": [
    "# 9 Mjob — работа матери ('teacher' - учитель, 'health' - сфера здравоохранения, 'services' - гос служба,\n",
    "# 'at_home' - не работает, 'other' - другое)\n",
    "\n",
    "base.Mjob.describe()\n",
    "\n",
    "x = pd.DataFrame(base.Mjob.value_counts())\n",
    "display(x)\n",
    "print('{} уникальных значений'.format(len(x)))\n",
    "# очень большое кол-во other, почти половина неизвестно. Столбик не имеет права на жизнь\n",
    "base.drop(['Mjob'], inplace=True, axis=1)"
   ]
  },
  {
   "cell_type": "code",
   "execution_count": 14,
   "metadata": {},
   "outputs": [
    {
     "data": {
      "text/html": [
       "<div>\n",
       "<style scoped>\n",
       "    .dataframe tbody tr th:only-of-type {\n",
       "        vertical-align: middle;\n",
       "    }\n",
       "\n",
       "    .dataframe tbody tr th {\n",
       "        vertical-align: top;\n",
       "    }\n",
       "\n",
       "    .dataframe thead th {\n",
       "        text-align: right;\n",
       "    }\n",
       "</style>\n",
       "<table border=\"1\" class=\"dataframe\">\n",
       "  <thead>\n",
       "    <tr style=\"text-align: right;\">\n",
       "      <th></th>\n",
       "      <th>Fjob</th>\n",
       "    </tr>\n",
       "  </thead>\n",
       "  <tbody>\n",
       "    <tr>\n",
       "      <th>other</th>\n",
       "      <td>197</td>\n",
       "    </tr>\n",
       "    <tr>\n",
       "      <th>services</th>\n",
       "      <td>102</td>\n",
       "    </tr>\n",
       "    <tr>\n",
       "      <th>teacher</th>\n",
       "      <td>29</td>\n",
       "    </tr>\n",
       "    <tr>\n",
       "      <th>at_home</th>\n",
       "      <td>16</td>\n",
       "    </tr>\n",
       "    <tr>\n",
       "      <th>health</th>\n",
       "      <td>15</td>\n",
       "    </tr>\n",
       "  </tbody>\n",
       "</table>\n",
       "</div>"
      ],
      "text/plain": [
       "          Fjob\n",
       "other      197\n",
       "services   102\n",
       "teacher     29\n",
       "at_home     16\n",
       "health      15"
      ]
     },
     "metadata": {},
     "output_type": "display_data"
    },
    {
     "name": "stdout",
     "output_type": "stream",
     "text": [
      "5 уникальных значений\n"
     ]
    }
   ],
   "source": [
    "# 10 Fjob — работа отца ('teacher' - учитель, 'health' - сфера здравоохранения, 'services' - гос служба,\n",
    "# 'at_home' - не работает, 'other' - другое)\n",
    "\n",
    "base.Fjob.describe()\n",
    "\n",
    "x = pd.DataFrame(base.Fjob.value_counts())\n",
    "display(x)\n",
    "print('{} уникальных значений'.format(len(x)))\n",
    "# очень большое кол-во other, большая часть неизвестна. Столбик не имеет права на жизнь\n",
    "base.drop(['Fjob'], inplace=True, axis=1)"
   ]
  },
  {
   "cell_type": "code",
   "execution_count": 15,
   "metadata": {},
   "outputs": [
    {
     "name": "stdout",
     "output_type": "stream",
     "text": [
      "\n"
     ]
    },
    {
     "data": {
      "text/html": [
       "<div>\n",
       "<style scoped>\n",
       "    .dataframe tbody tr th:only-of-type {\n",
       "        vertical-align: middle;\n",
       "    }\n",
       "\n",
       "    .dataframe tbody tr th {\n",
       "        vertical-align: top;\n",
       "    }\n",
       "\n",
       "    .dataframe thead th {\n",
       "        text-align: right;\n",
       "    }\n",
       "</style>\n",
       "<table border=\"1\" class=\"dataframe\">\n",
       "  <thead>\n",
       "    <tr style=\"text-align: right;\">\n",
       "      <th></th>\n",
       "      <th>reason</th>\n",
       "    </tr>\n",
       "  </thead>\n",
       "  <tbody>\n",
       "    <tr>\n",
       "      <th>course</th>\n",
       "      <td>137</td>\n",
       "    </tr>\n",
       "    <tr>\n",
       "      <th>home</th>\n",
       "      <td>104</td>\n",
       "    </tr>\n",
       "    <tr>\n",
       "      <th>reputation</th>\n",
       "      <td>103</td>\n",
       "    </tr>\n",
       "    <tr>\n",
       "      <th>other</th>\n",
       "      <td>34</td>\n",
       "    </tr>\n",
       "    <tr>\n",
       "      <th>nan</th>\n",
       "      <td>17</td>\n",
       "    </tr>\n",
       "  </tbody>\n",
       "</table>\n",
       "</div>"
      ],
      "text/plain": [
       "            reason\n",
       "course         137\n",
       "home           104\n",
       "reputation     103\n",
       "other           34\n",
       "nan             17"
      ]
     },
     "metadata": {},
     "output_type": "display_data"
    },
    {
     "name": "stdout",
     "output_type": "stream",
     "text": [
      "5 уникальных значений\n"
     ]
    }
   ],
   "source": [
    "# 11 reason — причина выбора школы ('home' - близость к дому, 'reputation' - репутация школы, 'course' -\n",
    "# образовательная программа, 'other' - другое)\n",
    "\n",
    "base.reason.describe()\n",
    "\n",
    "base.reason = base.reason.astype(str).apply(\n",
    "    lambda x: None if x.strip() == '' else x)\n",
    "print()\n",
    "\n",
    "x = pd.DataFrame(base.reason.value_counts())\n",
    "display(x)\n",
    "print('{} уникальных значений'.format(len(x)))"
   ]
  },
  {
   "cell_type": "code",
   "execution_count": 16,
   "metadata": {},
   "outputs": [
    {
     "data": {
      "text/html": [
       "<div>\n",
       "<style scoped>\n",
       "    .dataframe tbody tr th:only-of-type {\n",
       "        vertical-align: middle;\n",
       "    }\n",
       "\n",
       "    .dataframe tbody tr th {\n",
       "        vertical-align: top;\n",
       "    }\n",
       "\n",
       "    .dataframe thead th {\n",
       "        text-align: right;\n",
       "    }\n",
       "</style>\n",
       "<table border=\"1\" class=\"dataframe\">\n",
       "  <thead>\n",
       "    <tr style=\"text-align: right;\">\n",
       "      <th></th>\n",
       "      <th>guardian</th>\n",
       "    </tr>\n",
       "  </thead>\n",
       "  <tbody>\n",
       "    <tr>\n",
       "      <th>mother</th>\n",
       "      <td>250</td>\n",
       "    </tr>\n",
       "    <tr>\n",
       "      <th>father</th>\n",
       "      <td>86</td>\n",
       "    </tr>\n",
       "    <tr>\n",
       "      <th>other</th>\n",
       "      <td>28</td>\n",
       "    </tr>\n",
       "  </tbody>\n",
       "</table>\n",
       "</div>"
      ],
      "text/plain": [
       "        guardian\n",
       "mother       250\n",
       "father        86\n",
       "other         28"
      ]
     },
     "metadata": {},
     "output_type": "display_data"
    },
    {
     "name": "stdout",
     "output_type": "stream",
     "text": [
      "3 уникальных значений\n"
     ]
    }
   ],
   "source": [
    "# 12 guardian — опекун ('mother' - мать, 'father' - отец, 'other' - другое)\n",
    "\n",
    "base.guardian.describe()\n",
    "\n",
    "x = pd.DataFrame(base.guardian.value_counts())\n",
    "display(x)\n",
    "print('{} уникальных значений'.format(len(x)))"
   ]
  },
  {
   "cell_type": "code",
   "execution_count": 17,
   "metadata": {},
   "outputs": [
    {
     "name": "stdout",
     "output_type": "stream",
     "text": [
      "('25-й перцентиль: 1.0,', '75-й перцентиль: 2.0,', 'IQR: 1.0, ', 'Границы выбросов: [-0.5, 3.5].')\n",
      "\n",
      "3 уникальных значений\n"
     ]
    },
    {
     "data": {
      "image/png": "[encoded data removed]",
      "text/plain": [
       "<Figure size 432x288 with 1 Axes>"
      ]
     },
     "metadata": {
      "needs_background": "light"
     },
     "output_type": "display_data"
    }
   ],
   "source": [
    "# 13 traveltime — время в пути до школы (1 - <15 мин., 2 - 15-30 мин., 3 - 30-60 мин., 4 - >60 мин.)\n",
    "\n",
    "base.traveltime.describe()\n",
    "\n",
    "print(vybros(base.traveltime))\n",
    "print()\n",
    "\n",
    "# есть выбросы, уберем их\n",
    "base.traveltime = base.traveltime[base.traveltime.between(0.0, 3.5)]\n",
    "base.traveltime.hist()\n",
    "x = pd.DataFrame(base.traveltime.value_counts())\n",
    "print('{} уникальных значений'.format(len(x)))"
   ]
  },
  {
   "cell_type": "code",
   "execution_count": 18,
   "metadata": {},
   "outputs": [
    {
     "name": "stdout",
     "output_type": "stream",
     "text": [
      "('25-й перцентиль: 1.0,', '75-й перцентиль: 2.0,', 'IQR: 1.0, ', 'Границы выбросов: [-0.5, 3.5].')\n",
      "\n",
      "3 уникальных значений\n"
     ]
    },
    {
     "data": {
      "image/png": "[encoded data removed]",
      "text/plain": [
       "<Figure size 432x288 with 1 Axes>"
      ]
     },
     "metadata": {
      "needs_background": "light"
     },
     "output_type": "display_data"
    }
   ],
   "source": [
    "# 14 studytime — время на учёбу помимо школы в неделю (1 - <2 часов, 2 - 2-5 часов, 3 - 5-10 часов, 4 - >10 часов)\n",
    "\n",
    "base.studytime.describe()\n",
    "\n",
    "print(vybros(base.studytime))\n",
    "print()\n",
    "\n",
    "# есть выбросы, уберем их\n",
    "base.studytime = base.studytime[base.studytime.between(0.0, 3.5)]\n",
    "\n",
    "base.studytime.hist()\n",
    "x = pd.DataFrame(base.studytime.value_counts())\n",
    "print('{} уникальных значений'.format(len(x)))"
   ]
  },
  {
   "cell_type": "code",
   "execution_count": 19,
   "metadata": {},
   "outputs": [
    {
     "name": "stdout",
     "output_type": "stream",
     "text": [
      "('25-й перцентиль: 0.0,', '75-й перцентиль: 0.0,', 'IQR: 0.0, ', 'Границы выбросов: [0.0, 0.0].')\n",
      "\n",
      "1 уникальных значений\n"
     ]
    },
    {
     "data": {
      "image/png": "[encoded data removed]",
      "text/plain": [
       "<Figure size 432x288 with 1 Axes>"
      ]
     },
     "metadata": {
      "needs_background": "light"
     },
     "output_type": "display_data"
    }
   ],
   "source": [
    "# 15 failures — количество внеучебных неудач (n, если 1<=n<=3, иначе 0)\n",
    "\n",
    "base.failures.describe()\n",
    "\n",
    "print(vybros(base.failures))\n",
    "print()\n",
    "\n",
    "# есть выбросы, уберем их\n",
    "base.failures = base.failures[base.failures.between(0, 0)]\n",
    "\n",
    "base.failures.hist()\n",
    "x = pd.DataFrame(base.failures.value_counts())\n",
    "print('{} уникальных значений'.format(len(x)))\n",
    "\n",
    "# самые неоднозначный столбик. Показатели выброса не дают возможности для анализа\n",
    "# а если неудач было больше 3? например, 4? То тогда это также приравнивается к нулю - а, значит, не имеет смысла\n",
    "base.drop(['failures'], inplace=True, axis=1)"
   ]
  },
  {
   "cell_type": "code",
   "execution_count": 21,
   "metadata": {},
   "outputs": [
    {
     "name": "stdout",
     "output_type": "stream",
     "text": [
      "('25-й перцентиль: 0.0,', '75-й перцентиль: 0.0,', 'IQR: 0.0, ', 'Границы выбросов: [0.0, 0.0].')\n",
      "\n",
      "1 уникальных значений\n"
     ]
    },
    {
     "data": {
      "image/png": "[encoded data removed]",
      "text/plain": [
       "<Figure size 432x288 with 1 Axes>"
      ]
     },
     "metadata": {
      "needs_background": "light"
     },
     "output_type": "display_data"
    }
   ],
   "source": [
    "# 16 schoolsup — дополнительная образовательная поддержка (yes или no)\n",
    "\n",
    "base.schoolsup.describe()\n",
    "\n",
    "# переведем yes/no в 1/0, чтобы посчитать корреляцию\n",
    "base.schoolsup = yesno(base.schoolsup)\n",
    "\n",
    "print(vybros(base.schoolsup))\n",
    "print()\n",
    "\n",
    "# есть выбросы, уберем их\n",
    "base.schoolsup = base.schoolsup[base.schoolsup.between(0, 0)]\n",
    "\n",
    "base.schoolsup.hist()\n",
    "x = pd.DataFrame(base.schoolsup.value_counts())\n",
    "print('{} уникальных значений'.format(len(x)))\n",
    "\n",
    "# данный столбик после обработке не носит никакой информативной функции\n",
    "base.drop(['schoolsup'], inplace=True, axis=1)"
   ]
  },
  {
   "cell_type": "code",
   "execution_count": 22,
   "metadata": {
    "scrolled": true
   },
   "outputs": [
    {
     "name": "stdout",
     "output_type": "stream",
     "text": [
      "('25-й перцентиль: 0.0,', '75-й перцентиль: 1.0,', 'IQR: 1.0, ', 'Границы выбросов: [-1.5, 2.5].')\n",
      "\n",
      "2 уникальных значений\n"
     ]
    },
    {
     "data": {
      "image/png": "[encoded data removed]",
      "text/plain": [
       "<Figure size 432x288 with 1 Axes>"
      ]
     },
     "metadata": {
      "needs_background": "light"
     },
     "output_type": "display_data"
    }
   ],
   "source": [
    "# 17 famsup — семейная образовательная поддержка (yes или no)\n",
    "\n",
    "base.famsup.describe()\n",
    "\n",
    "# переведем yes/no в 1/0, чтобы посчитать корреляцию\n",
    "base.famsup = yesno(base.famsup)\n",
    "\n",
    "print(vybros(base.famsup))\n",
    "print()\n",
    "\n",
    "# выбросов нет\n",
    "\n",
    "base.famsup.hist()\n",
    "x = pd.DataFrame(base.famsup.value_counts())\n",
    "print('{} уникальных значений'.format(len(x)))"
   ]
  },
  {
   "cell_type": "code",
   "execution_count": 23,
   "metadata": {},
   "outputs": [
    {
     "name": "stdout",
     "output_type": "stream",
     "text": [
      "('25-й перцентиль: 0.0,', '75-й перцентиль: 1.0,', 'IQR: 1.0, ', 'Границы выбросов: [-1.5, 2.5].')\n",
      "\n",
      "2 уникальных значений\n"
     ]
    },
    {
     "data": {
      "image/png": "[encoded data removed]",
      "text/plain": [
       "<Figure size 432x288 with 1 Axes>"
      ]
     },
     "metadata": {
      "needs_background": "light"
     },
     "output_type": "display_data"
    }
   ],
   "source": [
    "# 18 paid — дополнительные платные занятия по математике (yes или no)\n",
    "\n",
    "base.paid.describe()\n",
    "\n",
    "# переведем yes/no в 1/0, чтобы посчитать корреляцию\n",
    "base.paid = yesno(base.paid)\n",
    "\n",
    "print(vybros(base.paid))\n",
    "print()\n",
    "\n",
    "# выбросов нет\n",
    "\n",
    "base.paid.hist()\n",
    "x = pd.DataFrame(base.paid.value_counts())\n",
    "print('{} уникальных значений'.format(len(x)))"
   ]
  },
  {
   "cell_type": "code",
   "execution_count": 24,
   "metadata": {},
   "outputs": [
    {
     "name": "stdout",
     "output_type": "stream",
     "text": [
      "('25-й перцентиль: 0.0,', '75-й перцентиль: 1.0,', 'IQR: 1.0, ', 'Границы выбросов: [-1.5, 2.5].')\n",
      "\n",
      "2 уникальных значений\n"
     ]
    },
    {
     "data": {
      "image/png": "[encoded data removed]",
      "text/plain": [
       "<Figure size 432x288 with 1 Axes>"
      ]
     },
     "metadata": {
      "needs_background": "light"
     },
     "output_type": "display_data"
    }
   ],
   "source": [
    "# 19 activities — дополнительные внеучебные занятия (yes или no)\n",
    "\n",
    "base.activities.describe()\n",
    "\n",
    "# переведем yes/no в 1/0, чтобы посчитать корреляцию\n",
    "base.activities = yesno(base.activities)\n",
    "\n",
    "print(vybros(base.activities))\n",
    "print()\n",
    "\n",
    "# выбросов нет\n",
    "\n",
    "base.activities.hist()\n",
    "x = pd.DataFrame(base.activities.value_counts())\n",
    "print('{} уникальных значений'.format(len(x)))"
   ]
  },
  {
   "cell_type": "code",
   "execution_count": 25,
   "metadata": {},
   "outputs": [
    {
     "name": "stdout",
     "output_type": "stream",
     "text": [
      "('25-й перцентиль: 1.0,', '75-й перцентиль: 1.0,', 'IQR: 0.0, ', 'Границы выбросов: [1.0, 1.0].')\n",
      "\n",
      "1 уникальных значений\n"
     ]
    },
    {
     "data": {
      "image/png": "[encoded data removed]",
      "text/plain": [
       "<Figure size 432x288 with 1 Axes>"
      ]
     },
     "metadata": {
      "needs_background": "light"
     },
     "output_type": "display_data"
    }
   ],
   "source": [
    "# 20 nursery — посещал детский сад (yes или no)\n",
    "\n",
    "base.nursery.describe()\n",
    "\n",
    "# переведем yes/no в 1/0, чтобы посчитать корреляцию\n",
    "base.nursery = yesno(base.nursery)\n",
    "\n",
    "print(vybros(base.nursery))\n",
    "print()\n",
    "\n",
    "# есть выбросы, уберем их\n",
    "base.nursery = base.nursery[base.nursery.between(1, 1)]\n",
    "\n",
    "base.nursery.hist()\n",
    "x = pd.DataFrame(base.nursery.value_counts())\n",
    "print('{} уникальных значений'.format(len(x)))\n",
    "\n",
    "# данный столбик после обработке не носит никакой информативной функции\n",
    "base.drop(['nursery'], inplace=True, axis=1)"
   ]
  },
  {
   "cell_type": "code",
   "execution_count": 26,
   "metadata": {},
   "outputs": [
    {
     "name": "stdout",
     "output_type": "stream",
     "text": [
      "('25-й перцентиль: 1.0,', '75-й перцентиль: 1.0,', 'IQR: 0.0, ', 'Границы выбросов: [1.0, 1.0].')\n",
      "\n",
      "1 уникальных значений\n"
     ]
    },
    {
     "data": {
      "image/png": "[encoded data removed]",
      "text/plain": [
       "<Figure size 432x288 with 1 Axes>"
      ]
     },
     "metadata": {
      "needs_background": "light"
     },
     "output_type": "display_data"
    }
   ],
   "source": [
    "# 21 higher — хочет получить высшее образование (yes или no)\n",
    "\n",
    "base.higher.describe()\n",
    "\n",
    "# переведем yes/no в 1/0, чтобы посчитать корреляцию\n",
    "base.higher = yesno(base.higher)\n",
    "\n",
    "print(vybros(base.higher))\n",
    "print()\n",
    "\n",
    "# есть выбросы, уберем их\n",
    "base.higher = base.higher[base.higher.between(1, 1)]\n",
    "\n",
    "base.higher.hist()\n",
    "x = pd.DataFrame(base.higher.value_counts())\n",
    "print('{} уникальных значений'.format(len(x)))\n",
    "\n",
    "# данный столбик после обработке не носит никакой информативной функции\n",
    "base.drop(['higher'], inplace=True, axis=1)"
   ]
  },
  {
   "cell_type": "code",
   "execution_count": 27,
   "metadata": {},
   "outputs": [
    {
     "name": "stdout",
     "output_type": "stream",
     "text": [
      "('25-й перцентиль: 1.0,', '75-й перцентиль: 1.0,', 'IQR: 0.0, ', 'Границы выбросов: [1.0, 1.0].')\n",
      "\n",
      "1 уникальных значений\n"
     ]
    },
    {
     "data": {
      "image/png": "[encoded data removed]",
      "text/plain": [
       "<Figure size 432x288 with 1 Axes>"
      ]
     },
     "metadata": {
      "needs_background": "light"
     },
     "output_type": "display_data"
    }
   ],
   "source": [
    "# 22 internet — наличие интернета дома (yes или no)\n",
    "\n",
    "base.internet.describe()\n",
    "\n",
    "# переведем yes/no в 1/0, чтобы посчитать корреляцию\n",
    "base.internet = yesno(base.internet)\n",
    "\n",
    "print(vybros(base.internet))\n",
    "print()\n",
    "\n",
    "# есть выбросы, уберем их\n",
    "base.internet = base.internet[base.internet.between(1, 1)]\n",
    "\n",
    "base.internet.hist()\n",
    "x = pd.DataFrame(base.internet.value_counts())\n",
    "print('{} уникальных значений'.format(len(x)))\n",
    "\n",
    "# данный столбик после обработке не носит никакой информативной функции\n",
    "base.drop(['internet'], inplace=True, axis=1)"
   ]
  },
  {
   "cell_type": "code",
   "execution_count": 28,
   "metadata": {},
   "outputs": [
    {
     "name": "stdout",
     "output_type": "stream",
     "text": [
      "('25-й перцентиль: 0.0,', '75-й перцентиль: 1.0,', 'IQR: 1.0, ', 'Границы выбросов: [-1.5, 2.5].')\n",
      "\n",
      "2 уникальных значений\n"
     ]
    },
    {
     "data": {
      "image/png": "[encoded data removed]",
      "text/plain": [
       "<Figure size 432x288 with 1 Axes>"
      ]
     },
     "metadata": {
      "needs_background": "light"
     },
     "output_type": "display_data"
    }
   ],
   "source": [
    "# 23 romantic — в романтических отношениях (yes или no)\n",
    "\n",
    "base.romantic.describe()\n",
    "\n",
    "# переведем yes/no в 1/0, чтобы посчитать корреляцию\n",
    "base.romantic = yesno(base.romantic)\n",
    "\n",
    "print(vybros(base.romantic))\n",
    "print()\n",
    "\n",
    "# выбросов нет\n",
    "\n",
    "base.romantic.hist()\n",
    "x = pd.DataFrame(base.romantic.value_counts())\n",
    "print('{} уникальных значений'.format(len(x)))"
   ]
  },
  {
   "cell_type": "code",
   "execution_count": 29,
   "metadata": {},
   "outputs": [
    {
     "name": "stdout",
     "output_type": "stream",
     "text": [
      "('25-й перцентиль: 4.0,', '75-й перцентиль: 5.0,', 'IQR: 1.0, ', 'Границы выбросов: [2.5, 6.5].')\n",
      "\n",
      "3 уникальных значений\n"
     ]
    },
    {
     "data": {
      "image/png": "[encoded data removed]",
      "text/plain": [
       "<Figure size 432x288 with 1 Axes>"
      ]
     },
     "metadata": {
      "needs_background": "light"
     },
     "output_type": "display_data"
    }
   ],
   "source": [
    "# 24 famrel — семейные отношения (от 1 - очень плохо до 5 - очень хорошо)\n",
    "\n",
    "base.famrel.describe()\n",
    "\n",
    "# ошибка в оценка - минимальное значение должно быть 0, а не -1. убираем ошибочное значение\n",
    "base.famrel = base.famrel[base.famrel.between(1, 5)]\n",
    "\n",
    "print(vybros(base.famrel))\n",
    "print()\n",
    "\n",
    "# уберем выбросы\n",
    "base.famrel = base.famrel[base.famrel.between(2.5, 6.5)]\n",
    "\n",
    "base.famrel.hist()\n",
    "x = pd.DataFrame(base.famrel.value_counts())\n",
    "print('{} уникальных значений'.format(len(x)))"
   ]
  },
  {
   "cell_type": "code",
   "execution_count": 30,
   "metadata": {},
   "outputs": [
    {
     "name": "stdout",
     "output_type": "stream",
     "text": [
      "('25-й перцентиль: 3.0,', '75-й перцентиль: 4.0,', 'IQR: 1.0, ', 'Границы выбросов: [1.5, 5.5].')\n",
      "\n",
      "4 уникальных значений\n"
     ]
    },
    {
     "data": {
      "image/png": "[encoded data removed]",
      "text/plain": [
       "<Figure size 432x288 with 1 Axes>"
      ]
     },
     "metadata": {
      "needs_background": "light"
     },
     "output_type": "display_data"
    }
   ],
   "source": [
    "# 25 freetime — свободное время после школы (от 1 - очень мало до 5 - очень мого)\n",
    "\n",
    "base.freetime.describe()\n",
    "\n",
    "print(vybros(base.freetime))\n",
    "print()\n",
    "\n",
    "# уберем выбросы\n",
    "base.freetime = base.freetime[base.freetime.between(1.5, 5.5)]\n",
    "\n",
    "base.freetime.hist()\n",
    "x = pd.DataFrame(base.freetime.value_counts())\n",
    "print('{} уникальных значений'.format(len(x)))"
   ]
  },
  {
   "cell_type": "code",
   "execution_count": 31,
   "metadata": {},
   "outputs": [
    {
     "name": "stdout",
     "output_type": "stream",
     "text": [
      "('25-й перцентиль: 2.0,', '75-й перцентиль: 4.0,', 'IQR: 2.0, ', 'Границы выбросов: [-1.0, 7.0].')\n",
      "\n",
      "5 уникальных значений\n"
     ]
    },
    {
     "data": {
      "image/png": "[encoded data removed]",
      "text/plain": [
       "<Figure size 432x288 with 1 Axes>"
      ]
     },
     "metadata": {
      "needs_background": "light"
     },
     "output_type": "display_data"
    }
   ],
   "source": [
    "# 26 goout — проведение времени с друзьями (от 1 - очень мало до 5 - очень много)\n",
    "\n",
    "base.goout.describe()\n",
    "\n",
    "print(vybros(base.goout))\n",
    "print()\n",
    "# выбросов нет\n",
    "\n",
    "base.goout.hist()\n",
    "x = pd.DataFrame(base.goout.value_counts())\n",
    "print('{} уникальных значений'.format(len(x)))"
   ]
  },
  {
   "cell_type": "code",
   "execution_count": 32,
   "metadata": {},
   "outputs": [
    {
     "name": "stdout",
     "output_type": "stream",
     "text": [
      "('25-й перцентиль: 3.0,', '75-й перцентиль: 5.0,', 'IQR: 2.0, ', 'Границы выбросов: [0.0, 8.0].')\n",
      "\n",
      "5 уникальных значений\n"
     ]
    },
    {
     "data": {
      "image/png": "[encoded data removed]",
      "text/plain": [
       "<Figure size 432x288 with 1 Axes>"
      ]
     },
     "metadata": {
      "needs_background": "light"
     },
     "output_type": "display_data"
    }
   ],
   "source": [
    "# 27 health — текущее состояние здоровья (от 1 - очень плохо до 5 - очень хорошо)\n",
    "\n",
    "base.goout.describe()\n",
    "\n",
    "print(vybros(base.health))\n",
    "print()\n",
    "# выбросов нет\n",
    "\n",
    "base.health.hist()\n",
    "x = pd.DataFrame(base.health.value_counts())\n",
    "print('{} уникальных значений'.format(len(x)))"
   ]
  },
  {
   "cell_type": "code",
   "execution_count": 33,
   "metadata": {},
   "outputs": [
    {
     "name": "stdout",
     "output_type": "stream",
     "text": [
      "('25-й перцентиль: 0.0,', '75-й перцентиль: 8.0,', 'IQR: 8.0, ', 'Границы выбросов: [-12.0, 20.0].')\n",
      "\n",
      "21 уникальных значений\n"
     ]
    },
    {
     "data": {
      "image/png": "[encoded data removed]",
      "text/plain": [
       "<Figure size 432x288 with 1 Axes>"
      ]
     },
     "metadata": {
      "needs_background": "light"
     },
     "output_type": "display_data"
    }
   ],
   "source": [
    "# 28 absences — количество пропущенных занятий\n",
    "\n",
    "base.absences.describe()\n",
    "\n",
    "print(vybros(base.absences))\n",
    "print()\n",
    "\n",
    "# Есть выбросы, уберем их (отрицательные числа не учитываем)\n",
    "base.absences = base.absences[base.absences.between(0, 20)]\n",
    "\n",
    "base.absences.hist()\n",
    "x = pd.DataFrame(base.absences.value_counts())\n",
    "print('{} уникальных значений'.format(len(x)))"
   ]
  },
  {
   "cell_type": "code",
   "execution_count": 34,
   "metadata": {},
   "outputs": [
    {
     "name": "stdout",
     "output_type": "stream",
     "text": [
      "('25-й перцентиль: 40.0,', '75-й перцентиль: 70.0,', 'IQR: 30.0, ', 'Границы выбросов: [-5.0, 115.0].')\n",
      "\n",
      "18 уникальных значений\n"
     ]
    },
    {
     "data": {
      "image/png": "[encoded data removed]",
      "text/plain": [
       "<Figure size 432x288 with 1 Axes>"
      ]
     },
     "metadata": {
      "needs_background": "light"
     },
     "output_type": "display_data"
    }
   ],
   "source": [
    "# 29 score — баллы по госэкзамену по математике\n",
    "\n",
    "# ее, мы добрались до последнего столбика!\n",
    "\n",
    "base.score.describe()\n",
    "\n",
    "print(vybros(base.score))\n",
    "print()\n",
    "# Выбросов нет\n",
    "\n",
    "base.score.hist()\n",
    "x = pd.DataFrame(base.score.value_counts())\n",
    "print('{} уникальных значений'.format(len(x)))\n",
    "# все ок"
   ]
  },
  {
   "cell_type": "code",
   "execution_count": 35,
   "metadata": {},
   "outputs": [
    {
     "name": "stdout",
     "output_type": "stream",
     "text": [
      "<class 'pandas.core.frame.DataFrame'>\n",
      "RangeIndex: 395 entries, 0 to 394\n",
      "Data columns (total 22 columns):\n",
      " #   Column      Non-Null Count  Dtype  \n",
      "---  ------      --------------  -----  \n",
      " 0   school      395 non-null    object \n",
      " 1   sex         395 non-null    object \n",
      " 2   age         394 non-null    float64\n",
      " 3   address     378 non-null    object \n",
      " 4   famsize     368 non-null    object \n",
      " 5   Pstatus     350 non-null    object \n",
      " 6   Medu        392 non-null    float64\n",
      " 7   Fedu        368 non-null    float64\n",
      " 8   reason      395 non-null    object \n",
      " 9   guardian    364 non-null    object \n",
      " 10  traveltime  360 non-null    float64\n",
      " 11  studytime   361 non-null    float64\n",
      " 12  famsup      356 non-null    float64\n",
      " 13  paid        355 non-null    float64\n",
      " 14  activities  381 non-null    float64\n",
      " 15  romantic    364 non-null    float64\n",
      " 16  famrel      343 non-null    float64\n",
      " 17  freetime    366 non-null    float64\n",
      " 18  goout       387 non-null    float64\n",
      " 19  health      380 non-null    float64\n",
      " 20  absences    366 non-null    float64\n",
      " 21  score       389 non-null    float64\n",
      "dtypes: float64(15), object(7)\n",
      "memory usage: 68.0+ KB\n"
     ]
    }
   ],
   "source": [
    "pd.DataFrame(base).info()"
   ]
  },
  {
   "cell_type": "code",
   "execution_count": 36,
   "metadata": {},
   "outputs": [
    {
     "data": {
      "text/plain": [
       "age          -0.153518\n",
       "romantic     -0.141320\n",
       "goout        -0.129685\n",
       "traveltime   -0.072792\n",
       "health       -0.070460\n",
       "famsup       -0.007540\n",
       "freetime      0.000582\n",
       "activities    0.010825\n",
       "famrel        0.057692\n",
       "absences      0.081274\n",
       "paid          0.099878\n",
       "studytime     0.112830\n",
       "Fedu          0.139615\n",
       "Medu          0.213349\n",
       "score         1.000000\n",
       "Name: score, dtype: float64"
      ]
     },
     "metadata": {},
     "output_type": "display_data"
    }
   ],
   "source": [
    "# по столбикам с числовыми данным можно посмотреть взаимосвязь через корреляцию\n",
    "df = base.corr()\n",
    "a = df['score']\n",
    "display(a.sort_values())\n",
    "\n",
    "# наибольшую связь показывают значения:\n",
    "# образование родителей оказаывает наибольшее влиние (чем выше степень - тем лучше результат у ребенка)\n",
    "# возраст (чем старше, тем хуже. Скорее всего, потому что чем старше, тем больше перерыв между пройденным материалом и самим экзаменом в случае повторных экзаменов)\n",
    "# романтические отношения отказывают не лучшее влияние на учебу\n",
    "# проведение времени с друзьями и время за учебой(меньше времени остается на учебу и результаты падают)"
   ]
  },
  {
   "cell_type": "code",
   "execution_count": 37,
   "metadata": {},
   "outputs": [
    {
     "data": {
      "image/png": "[encoded data removed]",
      "text/plain": [
       "<Figure size 1008x288 with 1 Axes>"
      ]
     },
     "metadata": {
      "needs_background": "light"
     },
     "output_type": "display_data"
    },
    {
     "data": {
      "image/png": "[encoded data removed]",
      "text/plain": [
       "<Figure size 1008x288 with 1 Axes>"
      ]
     },
     "metadata": {
      "needs_background": "light"
     },
     "output_type": "display_data"
    },
    {
     "data": {
      "image/png": "[encoded data removed]",
      "text/plain": [
       "<Figure size 1008x288 with 1 Axes>"
      ]
     },
     "metadata": {
      "needs_background": "light"
     },
     "output_type": "display_data"
    },
    {
     "data": {
      "image/png": "[encoded data removed]",
      "text/plain": [
       "<Figure size 1008x288 with 1 Axes>"
      ]
     },
     "metadata": {
      "needs_background": "light"
     },
     "output_type": "display_data"
    },
    {
     "data": {
      "image/png": "[encoded data removed]",
      "text/plain": [
       "<Figure size 1008x288 with 1 Axes>"
      ]
     },
     "metadata": {
      "needs_background": "light"
     },
     "output_type": "display_data"
    },
    {
     "data": {
      "image/png": "[encoded data removed]",
      "text/plain": [
       "<Figure size 1008x288 with 1 Axes>"
      ]
     },
     "metadata": {
      "needs_background": "light"
     },
     "output_type": "display_data"
    },
    {
     "data": {
      "image/png": "[encoded data removed]",
      "text/plain": [
       "<Figure size 1008x288 with 1 Axes>"
      ]
     },
     "metadata": {
      "needs_background": "light"
     },
     "output_type": "display_data"
    }
   ],
   "source": [
    "# по столбикам со строковыми данным можно посмотреть взаимосвязь через графики\n",
    "\n",
    "\n",
    "def get_boxplot(column):\n",
    "    fig, ax = plt.subplots(figsize=(14, 4))\n",
    "    sns.boxplot(x=column, y='score',\n",
    "                data=base.loc[base.loc[:, column].isin(\n",
    "                    base.loc[:, column].value_counts().index[:10])],\n",
    "                ax=ax)\n",
    "    plt.xticks(rotation=45)\n",
    "    ax.set_title('Boxplot for ' + column)\n",
    "    plt.show()\n",
    "\n",
    "\n",
    "for col in ['school', 'sex', 'address', 'famsize', 'Pstatus', 'reason', 'guardian']:\n",
    "    get_boxplot(col)\n",
    "\n",
    "# по строковым данным выводы сдедующие:\n",
    "# мальчики в большей степени показывают хорошие результаты чем девочки\n",
    "# ребята, которые живут в городе, имеют больше шансов на хорошую сдачу экзаменов. Возможно, в городе есть доп опции для подготовки"
   ]
  }
 ],
 "metadata": {
  "kernelspec": {
   "display_name": "Python 3",
   "language": "python",
   "name": "python3"
  },
  "language_info": {
   "codemirror_mode": {
    "name": "ipython",
    "version": 3
   },
   "file_extension": ".py",
   "mimetype": "text/x-python",
   "name": "python",
   "nbconvert_exporter": "python",
   "pygments_lexer": "ipython3",
   "version": "3.7.6"
  }
 },
 "nbformat": 4,
 "nbformat_minor": 4
}
